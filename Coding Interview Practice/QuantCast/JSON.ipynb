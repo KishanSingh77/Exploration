{
 "cells": [
  {
   "cell_type": "code",
   "execution_count": 16,
   "metadata": {},
   "outputs": [],
   "source": [
    "# Enter your code here. Read input from STDIN. Print output to STDOUT\n",
    "import json \n"
   ]
  },
  {
   "cell_type": "code",
   "execution_count": 27,
   "metadata": {},
   "outputs": [
    {
     "name": "stdout",
     "output_type": "stream",
     "text": [
      "{'id': 3, 'last': 'Black', 'first': 'Jim', 'location': {'city': 'Spokane', 'state': 'WA', 'postalCode': '99207'}, 'active': True}\n",
      "{'id': 1, 'last': 'Doe', 'first': 'John', 'location': {'city': 'Oakland', 'state': 'CA', 'postalCode': '94607'}, 'active': True}\n",
      "{'id': 1, 'last': 'Doe', 'first': 'John', 'location': {'city': 'Oakland', 'state': 'CA', 'postalCode': '94607'}, 'active': True}\n",
      "{'id': 2, 'last': 'Doe', 'first': 'Jane', 'location': {'city': 'San Francisco', 'state': 'CA', 'postalCode': '94105'}, 'active': True}\n",
      "{'id': 3, 'last': 'Black', 'first': 'Jim', 'location': {'city': 'Spokane', 'state': 'WA', 'postalCode': '99207'}, 'active': True}\n",
      "{'id': 4, 'last': 'Frost', 'first': 'Jack', 'location': {'city': 'Seattle', 'state': 'WA', 'postalCode': '98204'}, 'active': False}\n"
     ]
    }
   ],
   "source": [
    "file = open(\"input.in\", \"r\")\n",
    "json_files_lst = []\n",
    "\n",
    "\n",
    "def match(json_one, json_two):\n",
    "    if type(json_one) != type(json_two):\n",
    "        return False\n",
    "    if type(json_one) == dict: \n",
    "        for prop, json_two_file in json_two.items():\n",
    "            if prop not in json_one.keys():\n",
    "                return False\n",
    "            if not match(json_one[prop], json_two_file):\n",
    "                return False\n",
    "        return True\n",
    "    elif type(json_one) == list:\n",
    "        for json_two_file in json_two:\n",
    "            matching = False\n",
    "            for json_one_file in json_one:\n",
    "                if match(json_one_file, json_two_file):\n",
    "                    matching = True\n",
    "            if not matching: \n",
    "                return False \n",
    "        return True\n",
    "    else:\n",
    "        return json_one == json_two\n",
    "    \n",
    "while (True):\n",
    "    line = file.readline()\n",
    "    if line == \"\":\n",
    "        break\n",
    "    cmd = line[0 : line.find(\" \")]\n",
    "    json_str = line[line.find(\" \") + 1 : ]\n",
    "    json_file = json.loads(json_str)\n",
    "    if cmd[0] == \"a\":\n",
    "        json_files_lst.append(json_file)\n",
    "    elif cmd[0] == \"g\":\n",
    "        for old_json_file in json_files_lst:\n",
    "            if match(old_json_file, json_file):\n",
    "                print(old_json_file)\n",
    "    elif cmd[0] == \"d\":\n",
    "        indexes_to_remove = []\n",
    "        for i, old_json_file in enumerate(json_files_lst):\n",
    "            if match(old_json_file, json_file):\n",
    "                indexes_to_remove.append(i)\n",
    "        indexes_to_remove.reverse()\n",
    "        for i in indexes_to_remove:\n",
    "            json_files_lst.pop(i)\n",
    "    else:\n",
    "        continue\n",
    "        "
   ]
  },
  {
   "cell_type": "code",
   "execution_count": null,
   "metadata": {},
   "outputs": [],
   "source": []
  },
  {
   "cell_type": "code",
   "execution_count": null,
   "metadata": {},
   "outputs": [],
   "source": []
  }
 ],
 "metadata": {
  "kernelspec": {
   "display_name": "Python 3",
   "language": "python",
   "name": "python3"
  },
  "language_info": {
   "codemirror_mode": {
    "name": "ipython",
    "version": 3
   },
   "file_extension": ".py",
   "mimetype": "text/x-python",
   "name": "python",
   "nbconvert_exporter": "python",
   "pygments_lexer": "ipython3",
   "version": "3.6.5"
  }
 },
 "nbformat": 4,
 "nbformat_minor": 2
}
