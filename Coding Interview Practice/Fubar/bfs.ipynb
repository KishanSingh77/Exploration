{
 "cells": [
  {
   "cell_type": "code",
   "execution_count": 1,
   "metadata": {},
   "outputs": [],
   "source": [
    "# input maze\n",
    "# get the width and height\n",
    "# for each of the points set it to zero solve \n",
    "# set it back to zero and solve. \n",
    "# solver cannot muttate original graph\n",
    "# solver must get point and make copy of -1, points and then everything else set to 0\n",
    "# solver graph[0][0] = 1, queue pushes it in\n",
    "# bfs if condition out of bounds, end state is -1, visited before != 0, \n",
    "# else push the four points in. \n",
    "# return graph[w-1][h-1]\n",
    "# remember that bfs is always pushing into the q first, carrying the distance in the node, and then adding in an inc, setting the dist value, and then if in for loop to see if we push it in or not"
   ]
  },
  {
   "cell_type": "code",
   "execution_count": 123,
   "metadata": {},
   "outputs": [],
   "source": [
    "from collections import deque\n",
    "\n",
    "def answer(maze):\n",
    "    nrow, ncol = len(maze), len(maze[0])\n",
    "    q = deque()\n",
    "    q.append((0, 0, 1, 1))\n",
    "    inc = [[1, 0], [-1, 0], [0, 1], [0, -1]]\n",
    "    dist = {}\n",
    "    while q:\n",
    "        r, c, d, wall = q.popleft()\n",
    "        if (r, c, wall) in dist: continue\n",
    "        if r == nrow - 1 and c == ncol - 1:\n",
    "            return d\n",
    "        dist[(r, c, wall)] = d \n",
    "        for rr, cc in inc:\n",
    "            nr = rr + r\n",
    "            nc = cc + c\n",
    "            if 0 <= nr and nr < nrow and 0 <= nc and nc < ncol:\n",
    "                if maze[nr][nc] == 1 and wall == 0: continue\n",
    "                elif maze[nr][nc] == 1 and wall:\n",
    "                    if (nr, nc, wall - 1) not in dist:\n",
    "                        q.append((nr, nc, d + 1, wall - 1))\n",
    "                else: \n",
    "                    if (nr, nc, wall) not in dist:\n",
    "                        q.append((nr, nc, d + 1, wall))\n",
    "    \n",
    "\n",
    "    assert(1 == 2) #algorithm should never go here\n",
    "    "
   ]
  },
  {
   "cell_type": "code",
   "execution_count": 124,
   "metadata": {},
   "outputs": [],
   "source": [
    "dist = {}\n"
   ]
  },
  {
   "cell_type": "code",
   "execution_count": 125,
   "metadata": {},
   "outputs": [
    {
     "name": "stdout",
     "output_type": "stream",
     "text": [
      "{(1, 1): 5, (2, 2): 7}\n",
      "False\n"
     ]
    }
   ],
   "source": [
    "dist[(1, 1)] = 5\n",
    "dist[(2, 2)] = 7\n",
    "print(dist)\n",
    "print((1, 2) in dist)"
   ]
  },
  {
   "cell_type": "code",
   "execution_count": 126,
   "metadata": {},
   "outputs": [
    {
     "name": "stdout",
     "output_type": "stream",
     "text": [
      "(0, 0, 1, 1)\n",
      "(1, 0, 1, 2)\n",
      "(0, 1, 0, 2)\n",
      "(2, 0, 0, 3)\n",
      "(1, 1, 1, 3)\n",
      "(1, 1, 0, 3)\n",
      "(0, 0, 0, 3)\n",
      "(1, 0, 0, 4)\n",
      "(2, 1, 0, 4)\n",
      "(1, 2, 1, 4)\n",
      "(1, 2, 0, 4)\n",
      "(1, 0, 0, 4)\n",
      "(1, 0, 0, 4)\n",
      "(2, 2, 0, 5)\n",
      "(2, 2, 1, 5)\n",
      "(0, 2, 0, 5)\n",
      "(1, 3, 0, 5)\n",
      "(2, 2, 0, 5)\n",
      "(2, 3, 0, 6)\n",
      "(3, 2, 0, 6)\n",
      "(2, 3, 1, 6)\n",
      "(0, 3, 0, 6)\n",
      "(2, 3, 0, 6)\n",
      "(0, 3, 0, 6)\n",
      "(2, 3, 0, 6)\n",
      "(3, 3, 0, 7)\n",
      "7\n",
      "Algorithm ran in 3 milliseconds\n"
     ]
    }
   ],
   "source": [
    "import time\n",
    "\n",
    "\n",
    "def milliseconds():\n",
    "    return int(round(time.time() * 1000))\n",
    "\n",
    "m = [[0, 1, 1, 0], \n",
    "     [0, 0, 0, 1], \n",
    "     [1, 1, 0, 0], \n",
    "     [1, 1, 1, 0]]\n",
    "start_time = milliseconds()\n",
    "print(answer(m))\n",
    "end_time = milliseconds()\n",
    "print(\"Algorithm ran in {0} milliseconds\".format(end_time - start_time))\n"
   ]
  },
  {
   "cell_type": "code",
   "execution_count": 122,
   "metadata": {},
   "outputs": [
    {
     "data": {
      "text/plain": [
       "True"
      ]
     },
     "execution_count": 122,
     "metadata": {},
     "output_type": "execute_result"
    }
   ],
   "source": [
    "INF = 1e9\n",
    "1e9 + 1 > INF\n"
   ]
  },
  {
   "cell_type": "code",
   "execution_count": null,
   "metadata": {},
   "outputs": [],
   "source": []
  }
 ],
 "metadata": {
  "kernelspec": {
   "display_name": "Python 2",
   "language": "python",
   "name": "python2"
  },
  "language_info": {
   "codemirror_mode": {
    "name": "ipython",
    "version": 2
   },
   "file_extension": ".py",
   "mimetype": "text/x-python",
   "name": "python",
   "nbconvert_exporter": "python",
   "pygments_lexer": "ipython2",
   "version": "2.7.10"
  }
 },
 "nbformat": 4,
 "nbformat_minor": 2
}
