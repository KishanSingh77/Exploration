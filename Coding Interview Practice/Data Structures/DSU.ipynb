{
 "cells": [
  {
   "cell_type": "code",
   "execution_count": 36,
   "metadata": {},
   "outputs": [],
   "source": [
    "def make_set(n):\n",
    "    parent = [x for x in range(n)]\n",
    "    size = [1 for x in range(n)]\n",
    "    return parent, size\n",
    "    \n",
    "def find(parent, x): \n",
    "    if x == parent[x]: \n",
    "        return parent[x]\n",
    "    parent[x] = find(parent, parent[x])\n",
    "    return parent[x]\n",
    "\n",
    "def union(parent, size, x, y):\n",
    "    px = find(parent, x)\n",
    "    py = find(parent, y)\n",
    "    if px != py:\n",
    "        if size[px] < size[py]:\n",
    "            px, py = py, px\n",
    "        size[px] += size[py]\n",
    "        parent[py] = parent[px]\n",
    "        "
   ]
  },
  {
   "cell_type": "code",
   "execution_count": 37,
   "metadata": {},
   "outputs": [],
   "source": [
    "parent, size = make_set(1000)\n"
   ]
  },
  {
   "cell_type": "code",
   "execution_count": 46,
   "metadata": {},
   "outputs": [
    {
     "name": "stdout",
     "output_type": "stream",
     "text": [
      "1\n",
      "None\n",
      "4\n",
      "4\n",
      "1\n",
      "3\n",
      "1\n"
     ]
    }
   ],
   "source": [
    "print(find(parent, 1))\n",
    "print(union(parent, size, 1, 2))\n",
    "union(parent, size, 2, 3)\n",
    "union(parent, size, 4, 5)\n",
    "print(find(parent, 4))\n",
    "print(find(parent, 5))\n",
    "print(find(parent, 3))\n",
    "print(size[1])\n",
    "print(size[2])"
   ]
  },
  {
   "cell_type": "code",
   "execution_count": null,
   "metadata": {},
   "outputs": [],
   "source": []
  }
 ],
 "metadata": {
  "kernelspec": {
   "display_name": "Python 3",
   "language": "python",
   "name": "python3"
  },
  "language_info": {
   "codemirror_mode": {
    "name": "ipython",
    "version": 3
   },
   "file_extension": ".py",
   "mimetype": "text/x-python",
   "name": "python",
   "nbconvert_exporter": "python",
   "pygments_lexer": "ipython3",
   "version": "3.6.5"
  }
 },
 "nbformat": 4,
 "nbformat_minor": 2
}
