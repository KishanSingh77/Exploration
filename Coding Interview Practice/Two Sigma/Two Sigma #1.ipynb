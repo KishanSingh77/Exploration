{
 "cells": [
  {
   "cell_type": "code",
   "execution_count": 16,
   "metadata": {},
   "outputs": [],
   "source": [
    "s = \"I love programming\"\n",
    "t = \"programming\""
   ]
  },
  {
   "cell_type": "code",
   "execution_count": 19,
   "metadata": {},
   "outputs": [],
   "source": [
    "def missingWords(s, t):\n",
    "    s = s.split()\n",
    "    t = t.split()\n",
    "    len_s = len(s)\n",
    "    len_t = len(t)\n",
    "    i, j = 0, 0\n",
    "    result = []\n",
    "    while j < len_t:\n",
    "        while i < len_s and j < len_t:\n",
    "            if s[i] == t[j]:\n",
    "                i += 1\n",
    "                j += 1\n",
    "            else: \n",
    "                result.append(s[i])\n",
    "                i += 1\n",
    "    result.append(\"\\n\".join(s[i:]))\n",
    "    return \"\\n\".join(result)\n",
    "\n"
   ]
  },
  {
   "cell_type": "code",
   "execution_count": 20,
   "metadata": {},
   "outputs": [
    {
     "name": "stdout",
     "output_type": "stream",
     "text": [
      "I\n",
      "love\n",
      "\n"
     ]
    }
   ],
   "source": [
    "print(missingWords(s, t))"
   ]
  },
  {
   "cell_type": "code",
   "execution_count": null,
   "metadata": {},
   "outputs": [],
   "source": []
  }
 ],
 "metadata": {
  "kernelspec": {
   "display_name": "Python 3",
   "language": "python",
   "name": "python3"
  },
  "language_info": {
   "codemirror_mode": {
    "name": "ipython",
    "version": 3
   },
   "file_extension": ".py",
   "mimetype": "text/x-python",
   "name": "python",
   "nbconvert_exporter": "python",
   "pygments_lexer": "ipython3",
   "version": "3.6.5"
  }
 },
 "nbformat": 4,
 "nbformat_minor": 2
}
