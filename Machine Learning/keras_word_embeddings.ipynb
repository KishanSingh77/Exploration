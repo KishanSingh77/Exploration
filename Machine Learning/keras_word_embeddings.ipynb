{
 "cells": [
  {
   "cell_type": "code",
   "execution_count": 27,
   "metadata": {},
   "outputs": [],
   "source": [
    "from numpy import array\n",
    "from keras.preprocessing.text import one_hot\n",
    "from keras.preprocessing.sequence import pad_sequences\n",
    "from keras.models import Sequential\n",
    "from keras.layers import Dense\n",
    "from keras.layers import Flatten\n",
    "from keras.layers.embeddings import Embedding\n",
    "from keras.metrics import binary_crossentropy\n",
    "from keras.utils.vis_utils import plot_model"
   ]
  },
  {
   "cell_type": "code",
   "execution_count": 28,
   "metadata": {},
   "outputs": [],
   "source": [
    "docs = ['Well done!',\n",
    "        'Good work',\n",
    "        'Great effort',\n",
    "        'nice work',\n",
    "        'Excellent!',\n",
    "        'Weak',\n",
    "        'Poor effort!',\n",
    "        'not good',\n",
    "        'poor work',\n",
    "        'Could have done better.']\n",
    "labels = array([1,1,1,1,1,0,0,0,0,0])\n",
    "vocab_size = 50\n"
   ]
  },
  {
   "cell_type": "code",
   "execution_count": 29,
   "metadata": {},
   "outputs": [
    {
     "data": {
      "text/plain": [
       "[[15, 2],\n",
       " [45, 3],\n",
       " [35, 28],\n",
       " [12, 3],\n",
       " [12],\n",
       " [42],\n",
       " [23, 28],\n",
       " [14, 45],\n",
       " [23, 3],\n",
       " [33, 12, 2, 7]]"
      ]
     },
     "execution_count": 29,
     "metadata": {},
     "output_type": "execute_result"
    }
   ],
   "source": [
    "encoded_docs = [one_hot(d, vocab_size) for d in docs]\n",
    "encoded_docs"
   ]
  },
  {
   "cell_type": "code",
   "execution_count": 30,
   "metadata": {},
   "outputs": [],
   "source": [
    "max_length = 4\n",
    "padded_docs = pad_sequences(encoded_docs, maxlen = max_length, padding = 'post')\n"
   ]
  },
  {
   "cell_type": "code",
   "execution_count": 31,
   "metadata": {},
   "outputs": [
    {
     "data": {
      "text/plain": [
       "array([[15,  2,  0,  0],\n",
       "       [45,  3,  0,  0],\n",
       "       [35, 28,  0,  0],\n",
       "       [12,  3,  0,  0],\n",
       "       [12,  0,  0,  0],\n",
       "       [42,  0,  0,  0],\n",
       "       [23, 28,  0,  0],\n",
       "       [14, 45,  0,  0],\n",
       "       [23,  3,  0,  0],\n",
       "       [33, 12,  2,  7]], dtype=int32)"
      ]
     },
     "execution_count": 31,
     "metadata": {},
     "output_type": "execute_result"
    }
   ],
   "source": [
    "padded_docs"
   ]
  },
  {
   "cell_type": "code",
   "execution_count": 32,
   "metadata": {},
   "outputs": [
    {
     "name": "stdout",
     "output_type": "stream",
     "text": [
      "_________________________________________________________________\n",
      "Layer (type)                 Output Shape              Param #   \n",
      "=================================================================\n",
      "embedding_5 (Embedding)      (None, 4, 8)              400       \n",
      "_________________________________________________________________\n",
      "flatten_5 (Flatten)          (None, 32)                0         \n",
      "_________________________________________________________________\n",
      "dense_5 (Dense)              (None, 1)                 33        \n",
      "=================================================================\n",
      "Total params: 433\n",
      "Trainable params: 433\n",
      "Non-trainable params: 0\n",
      "_________________________________________________________________\n",
      "None\n"
     ]
    }
   ],
   "source": [
    "model = Sequential()\n",
    "model.add(Embedding(vocab_size, 8, input_length = max_length))\n",
    "model.add(Flatten())\n",
    "model.add(Dense(1, activation = \"sigmoid\"))\n",
    "model.compile(optimizer='adam', loss = binary_crossentropy, metrics=['acc'])\n",
    "print(model.summary())\n",
    "\n"
   ]
  },
  {
   "cell_type": "code",
   "execution_count": 26,
   "metadata": {},
   "outputs": [
    {
     "name": "stdout",
     "output_type": "stream",
     "text": [
      "Epoch 1/50\n",
      "10/10 [==============================] - 0s 446us/step - loss: 0.6268 - acc: 0.9000\n",
      "Epoch 2/50\n",
      "10/10 [==============================] - 0s 296us/step - loss: 0.6252 - acc: 0.9000\n",
      "Epoch 3/50\n",
      "10/10 [==============================] - 0s 196us/step - loss: 0.6235 - acc: 0.9000\n",
      "Epoch 4/50\n",
      "10/10 [==============================] - 0s 294us/step - loss: 0.6218 - acc: 0.9000\n",
      "Epoch 5/50\n",
      "10/10 [==============================] - 0s 254us/step - loss: 0.6201 - acc: 0.9000\n",
      "Epoch 6/50\n",
      "10/10 [==============================] - 0s 300us/step - loss: 0.6184 - acc: 0.9000\n",
      "Epoch 7/50\n",
      "10/10 [==============================] - 0s 242us/step - loss: 0.6166 - acc: 0.9000\n",
      "Epoch 8/50\n",
      "10/10 [==============================] - 0s 226us/step - loss: 0.6149 - acc: 0.9000\n",
      "Epoch 9/50\n",
      "10/10 [==============================] - 0s 417us/step - loss: 0.6131 - acc: 0.9000\n",
      "Epoch 10/50\n",
      "10/10 [==============================] - 0s 381us/step - loss: 0.6113 - acc: 0.9000\n",
      "Epoch 11/50\n",
      "10/10 [==============================] - 0s 389us/step - loss: 0.6096 - acc: 0.9000\n",
      "Epoch 12/50\n",
      "10/10 [==============================] - 0s 483us/step - loss: 0.6077 - acc: 0.9000\n",
      "Epoch 13/50\n",
      "10/10 [==============================] - 0s 332us/step - loss: 0.6059 - acc: 0.9000\n",
      "Epoch 14/50\n",
      "10/10 [==============================] - 0s 185us/step - loss: 0.6041 - acc: 0.9000\n",
      "Epoch 15/50\n",
      "10/10 [==============================] - 0s 462us/step - loss: 0.6022 - acc: 0.9000\n",
      "Epoch 16/50\n",
      "10/10 [==============================] - 0s 255us/step - loss: 0.6004 - acc: 0.9000\n",
      "Epoch 17/50\n",
      "10/10 [==============================] - 0s 250us/step - loss: 0.5985 - acc: 0.9000\n",
      "Epoch 18/50\n",
      "10/10 [==============================] - 0s 302us/step - loss: 0.5966 - acc: 0.9000\n",
      "Epoch 19/50\n",
      "10/10 [==============================] - 0s 455us/step - loss: 0.5947 - acc: 0.9000\n",
      "Epoch 20/50\n",
      "10/10 [==============================] - 0s 283us/step - loss: 0.5928 - acc: 0.9000\n",
      "Epoch 21/50\n",
      "10/10 [==============================] - 0s 250us/step - loss: 0.5909 - acc: 0.9000\n",
      "Epoch 22/50\n",
      "10/10 [==============================] - 0s 210us/step - loss: 0.5890 - acc: 0.9000\n",
      "Epoch 23/50\n",
      "10/10 [==============================] - 0s 438us/step - loss: 0.5870 - acc: 0.9000\n",
      "Epoch 24/50\n",
      "10/10 [==============================] - 0s 228us/step - loss: 0.5851 - acc: 0.9000\n",
      "Epoch 25/50\n",
      "10/10 [==============================] - 0s 426us/step - loss: 0.5831 - acc: 0.9000\n",
      "Epoch 26/50\n",
      "10/10 [==============================] - 0s 244us/step - loss: 0.5811 - acc: 0.9000\n",
      "Epoch 27/50\n",
      "10/10 [==============================] - 0s 235us/step - loss: 0.5791 - acc: 0.9000\n",
      "Epoch 28/50\n",
      "10/10 [==============================] - 0s 232us/step - loss: 0.5771 - acc: 0.9000\n",
      "Epoch 29/50\n",
      "10/10 [==============================] - 0s 480us/step - loss: 0.5751 - acc: 0.9000\n",
      "Epoch 30/50\n",
      "10/10 [==============================] - 0s 211us/step - loss: 0.5731 - acc: 0.9000\n",
      "Epoch 31/50\n",
      "10/10 [==============================] - 0s 254us/step - loss: 0.5710 - acc: 0.9000\n",
      "Epoch 32/50\n",
      "10/10 [==============================] - 0s 167us/step - loss: 0.5690 - acc: 0.9000\n",
      "Epoch 33/50\n",
      "10/10 [==============================] - 0s 362us/step - loss: 0.5669 - acc: 0.9000\n",
      "Epoch 34/50\n",
      "10/10 [==============================] - 0s 592us/step - loss: 0.5649 - acc: 0.9000\n",
      "Epoch 35/50\n",
      "10/10 [==============================] - 0s 281us/step - loss: 0.5628 - acc: 0.9000\n",
      "Epoch 36/50\n",
      "10/10 [==============================] - 0s 232us/step - loss: 0.5607 - acc: 0.9000\n",
      "Epoch 37/50\n",
      "10/10 [==============================] - 0s 433us/step - loss: 0.5586 - acc: 0.9000\n",
      "Epoch 38/50\n",
      "10/10 [==============================] - 0s 262us/step - loss: 0.5565 - acc: 0.9000\n",
      "Epoch 39/50\n",
      "10/10 [==============================] - 0s 162us/step - loss: 0.5544 - acc: 0.9000\n",
      "Epoch 40/50\n",
      "10/10 [==============================] - 0s 235us/step - loss: 0.5523 - acc: 0.9000\n",
      "Epoch 41/50\n",
      "10/10 [==============================] - 0s 251us/step - loss: 0.5502 - acc: 0.9000\n",
      "Epoch 42/50\n",
      "10/10 [==============================] - 0s 244us/step - loss: 0.5481 - acc: 0.9000\n",
      "Epoch 43/50\n",
      "10/10 [==============================] - 0s 280us/step - loss: 0.5459 - acc: 0.9000\n",
      "Epoch 44/50\n",
      "10/10 [==============================] - 0s 356us/step - loss: 0.5438 - acc: 0.9000\n",
      "Epoch 45/50\n",
      "10/10 [==============================] - 0s 237us/step - loss: 0.5417 - acc: 0.9000\n",
      "Epoch 46/50\n",
      "10/10 [==============================] - 0s 218us/step - loss: 0.5395 - acc: 0.9000\n",
      "Epoch 47/50\n",
      "10/10 [==============================] - 0s 151us/step - loss: 0.5373 - acc: 0.9000\n",
      "Epoch 48/50\n",
      "10/10 [==============================] - 0s 245us/step - loss: 0.5352 - acc: 0.9000\n",
      "Epoch 49/50\n",
      "10/10 [==============================] - 0s 150us/step - loss: 0.5330 - acc: 0.9000\n",
      "Epoch 50/50\n",
      "10/10 [==============================] - 0s 233us/step - loss: 0.5308 - acc: 0.9000\n",
      "Accuracy: 89.999998\n"
     ]
    }
   ],
   "source": [
    "# fit the model\n",
    "model.fit(padded_docs, labels, epochs=50, verbose=True)\n",
    "# evaluate the model\n",
    "loss, accuracy = model.evaluate(padded_docs, labels, verbose=0)\n",
    "print('Accuracy: %f' % (accuracy*100))"
   ]
  },
  {
   "cell_type": "code",
   "execution_count": null,
   "metadata": {},
   "outputs": [],
   "source": []
  },
  {
   "cell_type": "code",
   "execution_count": null,
   "metadata": {},
   "outputs": [],
   "source": []
  },
  {
   "cell_type": "code",
   "execution_count": null,
   "metadata": {},
   "outputs": [],
   "source": []
  }
 ],
 "metadata": {
  "kernelspec": {
   "display_name": "Python 3",
   "language": "python",
   "name": "python3"
  },
  "language_info": {
   "codemirror_mode": {
    "name": "ipython",
    "version": 3
   },
   "file_extension": ".py",
   "mimetype": "text/x-python",
   "name": "python",
   "nbconvert_exporter": "python",
   "pygments_lexer": "ipython3",
   "version": "3.6.5"
  }
 },
 "nbformat": 4,
 "nbformat_minor": 2
}
