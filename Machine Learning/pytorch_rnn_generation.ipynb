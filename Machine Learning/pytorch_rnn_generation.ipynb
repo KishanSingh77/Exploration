{
 "cells": [
  {
   "cell_type": "markdown",
   "metadata": {},
   "source": [
    "![](https://i.imgur.com/eBRPvWB.png)\n",
    "\n",
    "# Practical PyTorch: Generating Shakespeare with a Character-Level RNN\n",
    "\n",
    "[In the RNN classification tutorial](https://github.com/spro/practical-pytorch/blob/master/char-rnn-classification/char-rnn-classification.ipynb) we used a RNN to classify text one character at a time. This time we'll generate text one character at a time.\n",
    "\n",
    "```\n",
    "> python generate.py -n 500\n",
    "\n",
    "PAOLTREDN:\n",
    "Let, yil exter shis owrach we so sain, fleas,\n",
    "Be wast the shall deas, puty sonse my sheete.\n",
    "\n",
    "BAUFIO:\n",
    "Sirh carrow out with the knonuot my comest sifard queences\n",
    "O all a man unterd.\n",
    "\n",
    "PROMENSJO:\n",
    "Ay, I to Heron, I sack, againous; bepear, Butch,\n",
    "An as shalp will of that seal think.\n",
    "\n",
    "NUKINUS:\n",
    "And house it to thee word off hee:\n",
    "And thou charrota the son hange of that shall denthand\n",
    "For the say hor you are of I folles muth me?\n",
    "```\n",
    "\n",
    "This one might make you question the series title &mdash; \"is that really practical?\" However, these sorts of generative models form the basis of machine translation, image captioning, question answering and more. See the [Sequence to Sequence Translation tutorial](https://github.com/spro/practical-pytorch/blob/master/seq2seq-translation/seq2seq-translation.ipynb) for more on that topic."
   ]
  },
  {
   "cell_type": "markdown",
   "metadata": {},
   "source": [
    "# Recommended Reading\n",
    "\n",
    "I assume you have at least installed PyTorch, know Python, and understand Tensors:\n",
    "\n",
    "* http://pytorch.org/ For installation instructions\n",
    "* [Deep Learning with PyTorch: A 60-minute Blitz](https://github.com/pytorch/tutorials/blob/master/Deep%20Learning%20with%20PyTorch.ipynb) to get started with PyTorch in general\n",
    "* [jcjohnson's PyTorch examples](https://github.com/jcjohnson/pytorch-examples) for an in depth overview\n",
    "* [Introduction to PyTorch for former Torchies](https://github.com/pytorch/tutorials/blob/master/Introduction%20to%20PyTorch%20for%20former%20Torchies.ipynb) if you are former Lua Torch user\n",
    "\n",
    "It would also be useful to know about RNNs and how they work:\n",
    "\n",
    "* [The Unreasonable Effectiveness of Recurrent Neural Networks](http://karpathy.github.io/2015/05/21/rnn-effectiveness/) shows a bunch of real life examples\n",
    "* [Understanding LSTM Networks](http://colah.github.io/posts/2015-08-Understanding-LSTMs/) is about LSTMs specifically but also informative about RNNs in general\n",
    "\n",
    "Also see these related tutorials from the series:\n",
    "\n",
    "* [Classifying Names with a Character-Level RNN](https://github.com/spro/practical-pytorch/blob/master/char-rnn-classification/char-rnn-classification.ipynb) uses an RNN for classification\n",
    "* [Generating Names with a Conditional Character-Level RNN](https://github.com/spro/practical-pytorch/blob/master/conditional-char-rnn/conditional-char-rnn.ipynb) builds on this model to add a category as input"
   ]
  },
  {
   "cell_type": "markdown",
   "metadata": {},
   "source": [
    "# Prepare data\n",
    "\n",
    "The file we are using is a plain text file. We turn any potential unicode characters into plain ASCII by using the `unidecode` package (which you can install via `pip` or `conda`)."
   ]
  },
  {
   "cell_type": "code",
   "execution_count": 12,
   "metadata": {},
   "outputs": [
    {
     "name": "stdout",
     "output_type": "stream",
     "text": [
      "file_len = 127752\n"
     ]
    }
   ],
   "source": [
    "import unidecode\n",
    "import string\n",
    "import random\n",
    "import re\n",
    "import torch\n",
    "from torch.autograd import Variable\n",
    "\n",
    "all_characters = string.printable\n",
    "n_characters = len(all_characters)\n",
    "\n",
    "file = unidecode.unidecode(open('./inputs/shakespeare.txt').read())\n",
    "file_len = len(file)\n",
    "print('file_len =', file_len)"
   ]
  },
  {
   "cell_type": "markdown",
   "metadata": {},
   "source": [
    "To make inputs out of this big string of data, we will be splitting it into chunks."
   ]
  },
  {
   "cell_type": "code",
   "execution_count": 8,
   "metadata": {},
   "outputs": [
    {
     "name": "stdout",
     "output_type": "stream",
     "text": [
      "inchester; for boiling choler chokes\n",
      "The hollow passage of my poison'd voice,\n",
      "By sight of these our baleful enemies.\n",
      "CARDINAL\n",
      "OF WINCHESTER\n",
      "Charles, and the rest, it is enacted thus:\n",
      "That, in regard Ki\n"
     ]
    }
   ],
   "source": [
    "chunk_len = 200\n",
    "\n",
    "def random_chunk():\n",
    "    start_index = random.randint(0, file_len - chunk_len)\n",
    "    end_index = start_index + chunk_len + 1\n",
    "    return file[start_index:end_index]\n",
    "\n",
    "print(random_chunk())"
   ]
  },
  {
   "cell_type": "markdown",
   "metadata": {},
   "source": [
    "# Build the Model\n",
    "\n",
    "This model will take as input the character for step $t_{-1}$ and is expected to output the next character $t$. There are three layers - one linear layer that encodes the input character into an internal state, one GRU layer (which may itself have multiple layers) that operates on that internal state and a hidden state, and a decoder layer that outputs the probability distribution."
   ]
  },
  {
   "cell_type": "code",
   "execution_count": 21,
   "metadata": {},
   "outputs": [],
   "source": [
    "import torch\n",
    "import torch.nn as nn\n",
    "from torch.autograd import Variable\n",
    "\n",
    "class RNN(nn.Module):\n",
    "    def __init__(self, input_size, hidden_size, output_size, n_layers=1):\n",
    "        super(RNN, self).__init__()\n",
    "        self.input_size = input_size\n",
    "        self.hidden_size = hidden_size\n",
    "        self.output_size = output_size\n",
    "        self.n_layers = n_layers\n",
    "        \n",
    "        self.encoder = nn.Embedding(input_size, hidden_size)\n",
    "        self.gru = nn.GRU(hidden_size, hidden_size, n_layers)\n",
    "        self.decoder = nn.Linear(hidden_size, output_size)\n",
    "    \n",
    "    def forward(self, input, hidden):\n",
    "        input = self.encoder(input.view(1, -1))\n",
    "        output, hidden = self.gru(input.view(1, 1, -1), hidden)\n",
    "        output = self.decoder(output.view(1, -1))\n",
    "        return output, hidden\n",
    "\n",
    "    def init_hidden(self):\n",
    "        return Variable(torch.zeros(self.n_layers, 1, self.hidden_size))"
   ]
  },
  {
   "cell_type": "markdown",
   "metadata": {},
   "source": [
    "# Inputs and Targets"
   ]
  },
  {
   "cell_type": "markdown",
   "metadata": {},
   "source": [
    "Each chunk will be turned into a tensor, specifically a `LongTensor` (used for integer values), by looping through the characters of the string and looking up the index of each character in `all_characters`."
   ]
  },
  {
   "cell_type": "code",
   "execution_count": 14,
   "metadata": {},
   "outputs": [
    {
     "name": "stdout",
     "output_type": "stream",
     "text": [
      "tensor([ 10,  11,  12,  39,  40,  41])\n"
     ]
    },
    {
     "data": {
      "text/plain": [
       "'0123456789abcdefghijklmnopqrstuvwxyzABCDEFGHIJKLMNOPQRSTUVWXYZ!\"#$%&\\'()*+,-./:;<=>?@[\\\\]^_`{|}~ \\t\\n\\r\\x0b\\x0c'"
      ]
     },
     "execution_count": 14,
     "metadata": {},
     "output_type": "execute_result"
    }
   ],
   "source": [
    "# Turn string into list of longs\n",
    "def char_tensor(string):\n",
    "    tensor = torch.zeros(len(string)).long()\n",
    "    for c in range(len(string)):\n",
    "        tensor[c] = all_characters.index(string[c])\n",
    "    return Variable(tensor)\n",
    "\n",
    "print(char_tensor('abcDEF'))"
   ]
  },
  {
   "cell_type": "markdown",
   "metadata": {},
   "source": [
    "Finally we can assemble a pair of input and target tensors for training, from a random chunk. The input will be all characters *up to the last*, and the target will be all characters *from the first*. So if our chunk is \"abc\" the input will correspond to \"ab\" while the target is \"bc\"."
   ]
  },
  {
   "cell_type": "code",
   "execution_count": 16,
   "metadata": {},
   "outputs": [
    {
     "data": {
      "text/plain": [
       "(tensor([ 21,  21,  94,  29,  30,  27,  23,  94,  22,  34,  94,  25,\n",
       "          10,  27,  29,  94,  29,  17,  14,  27,  14,  24,  15,  94,\n",
       "          18,  23,  29,  24,  94,  29,  17,  34,  94,  29,  17,  27,\n",
       "          24,  10,  29,  75,  96,  54,  50,  48,  40,  53,  54,  40,\n",
       "          55,  96,  36,  32,  10,  34,  73,  94,  10,  32,  10,  34,\n",
       "          73,  94,  16,  24,  24,  13,  94,  58,  18,  21,  21,  18,\n",
       "          10,  22,  94,  13,  14,  94,  21,  10,  94,  51,  24,  21,\n",
       "          14,  62,  96,  58,  14,  94,  16,  27,  10,  12,  14,  94,\n",
       "          29,  17,  14,  94,  34,  14,  24,  22,  10,  23,  94,  11,\n",
       "          34,  94,  12,  24,  23,  31,  14,  27,  28,  18,  23,  16,\n",
       "          94,  32,  18,  29,  17,  94,  17,  18,  22,  75,  96,  58,\n",
       "          36,  53,  58,  44,  38,  46,  96,  49,  24,  32,  73,  94,\n",
       "          11,  34,  94,  42,  24,  13,  68,  28,  94,  32,  18,  21,\n",
       "          21,  73,  94,  29,  17,  24,  30,  94,  32,  27,  24,  23,\n",
       "          16,  68,  28,  29,  94,  17,  18,  22,  73,  94,  54,  24,\n",
       "          22,  14,  27,  28,  14,  29,  78,  96,  43,  18,  28,  94,\n",
       "          16,  27,  10,  23,  13,  15,  10,  29]),\n",
       " tensor([ 21,  94,  29,  30,  27,  23,  94,  22,  34,  94,  25,  10,\n",
       "          27,  29,  94,  29,  17,  14,  27,  14,  24,  15,  94,  18,\n",
       "          23,  29,  24,  94,  29,  17,  34,  94,  29,  17,  27,  24,\n",
       "          10,  29,  75,  96,  54,  50,  48,  40,  53,  54,  40,  55,\n",
       "          96,  36,  32,  10,  34,  73,  94,  10,  32,  10,  34,  73,\n",
       "          94,  16,  24,  24,  13,  94,  58,  18,  21,  21,  18,  10,\n",
       "          22,  94,  13,  14,  94,  21,  10,  94,  51,  24,  21,  14,\n",
       "          62,  96,  58,  14,  94,  16,  27,  10,  12,  14,  94,  29,\n",
       "          17,  14,  94,  34,  14,  24,  22,  10,  23,  94,  11,  34,\n",
       "          94,  12,  24,  23,  31,  14,  27,  28,  18,  23,  16,  94,\n",
       "          32,  18,  29,  17,  94,  17,  18,  22,  75,  96,  58,  36,\n",
       "          53,  58,  44,  38,  46,  96,  49,  24,  32,  73,  94,  11,\n",
       "          34,  94,  42,  24,  13,  68,  28,  94,  32,  18,  21,  21,\n",
       "          73,  94,  29,  17,  24,  30,  94,  32,  27,  24,  23,  16,\n",
       "          68,  28,  29,  94,  17,  18,  22,  73,  94,  54,  24,  22,\n",
       "          14,  27,  28,  14,  29,  78,  96,  43,  18,  28,  94,  16,\n",
       "          27,  10,  23,  13,  15,  10,  29,  17]))"
      ]
     },
     "execution_count": 16,
     "metadata": {},
     "output_type": "execute_result"
    }
   ],
   "source": [
    "def random_training_set():    \n",
    "    chunk = random_chunk()\n",
    "    inp = char_tensor(chunk[:-1])\n",
    "    target = char_tensor(chunk[1:])\n",
    "    return inp, target"
   ]
  },
  {
   "cell_type": "markdown",
   "metadata": {},
   "source": [
    "# Evaluating\n",
    "\n",
    "To evaluate the network we will feed one character at a time, use the outputs of the network as a probability distribution for the next character, and repeat. To start generation we pass a priming string to start building up the hidden state, from which we then generate one character at a time."
   ]
  },
  {
   "cell_type": "code",
   "execution_count": 96,
   "metadata": {},
   "outputs": [],
   "source": [
    "def evaluate(prime_str='A', predict_len=100, temperature=0.8):\n",
    "    hidden = decoder.init_hidden()\n",
    "    prime_input = char_tensor(prime_str)\n",
    "    predicted = prime_str\n",
    "\n",
    "    # Use priming string to \"build up\" hidden state\n",
    "    for p in range(len(prime_str) - 1):\n",
    "        _, hidden = decoder(prime_input[p], hidden)\n",
    "    inp = prime_input[-1]\n",
    "    \n",
    "    for p in range(predict_len):\n",
    "        output, hidden = decoder(inp, hidden)\n",
    "        \n",
    "        # Sample from the network as a multinomial distribution\n",
    "        output_dist = output.data.view(-1).div(temperature).exp()\n",
    "        top_i = torch.multinomial(output_dist, 1)[0]\n",
    "        \n",
    "        # Add predicted character to string and use as next input\n",
    "        predicted_char = all_characters[top_i]\n",
    "        predicted += predicted_char\n",
    "        inp = char_tensor(predicted_char)\n",
    "\n",
    "    return predicted"
   ]
  },
  {
   "cell_type": "markdown",
   "metadata": {},
   "source": [
    "# Training"
   ]
  },
  {
   "cell_type": "markdown",
   "metadata": {},
   "source": [
    "A helper to print the amount of time passed:"
   ]
  },
  {
   "cell_type": "code",
   "execution_count": 17,
   "metadata": {},
   "outputs": [],
   "source": [
    "import time, math\n",
    "\n",
    "def time_since(since):\n",
    "    s = time.time() - since\n",
    "    m = math.floor(s / 60)\n",
    "    s -= m * 60\n",
    "    return '%dm %ds' % (m, s)"
   ]
  },
  {
   "cell_type": "markdown",
   "metadata": {},
   "source": [
    "The main training function"
   ]
  },
  {
   "cell_type": "code",
   "execution_count": 55,
   "metadata": {},
   "outputs": [],
   "source": [
    "def train(inp, target):\n",
    "    hidden = decoder.init_hidden()\n",
    "    decoder.zero_grad()\n",
    "    loss = 0\n",
    "    for c in range(chunk_len):\n",
    "        output, hidden = decoder(inp[c], hidden)\n",
    "        loss += criterion(output, target[c].view(1))\n",
    "    loss.backward()\n",
    "    decoder_optimizer.step()\n",
    "    return loss.data[0] / chunk_len"
   ]
  },
  {
   "cell_type": "markdown",
   "metadata": {},
   "source": [
    "Then we define the training parameters, instantiate the model, and start training:"
   ]
  },
  {
   "cell_type": "code",
   "execution_count": 97,
   "metadata": {
    "scrolled": false
   },
   "outputs": [
    {
     "name": "stderr",
     "output_type": "stream",
     "text": [
      "/Users/chuck/Library/Python/3.6/lib/python/site-packages/ipykernel_launcher.py:10: UserWarning: invalid index of a 0-dim tensor. This will be an error in PyTorch 0.5. Use tensor.item() to convert a 0-dim tensor to a Python number\n",
      "  # Remove the CWD from sys.path while we load stuff.\n"
     ]
    },
    {
     "name": "stdout",
     "output_type": "stream",
     "text": [
      "[0m 15s (100 5%) 2.3033]\n",
      "Whics the xer ane\n",
      "For\n",
      "Anom irence\n",
      "And lliny ly\n",
      "Thinth mu wave amargin my sent crill cano-nt iered pret \n",
      "\n",
      "[0m 28s (200 10%) 2.1226]\n",
      "Whbules in lich:\n",
      "Thy wisl nefig sur hamen graveent hans\n",
      "\n",
      "YoucSG.\n",
      "Werer of dent\n",
      "And in that ean banch a \n",
      "\n",
      "[0m 41s (300 15%) 2.2391]\n",
      "Whixce,\n",
      "Whach is the oth exeed hy in bughad over of are the shand dith son of to seligher exase we noq \n",
      "\n",
      "[0m 54s (400 20%) 1.8517]\n",
      "Whath's thee kheen ir had the like art shars weace; bere and with is not in and be like is thalt gemes \n",
      "\n",
      "[1m 7s (500 25%) 1.9331]\n",
      "Whery, you tonom now mays,\n",
      "My means,\n",
      "To alased there wand the such famorl,\n",
      "To fom. VI\n",
      "Than what signth \n",
      "\n",
      "[1m 20s (600 30%) 2.0524]\n",
      "Whims foom be the intrunt comet of Yoo anout in by Ornot ay the prime crovers;\n",
      "\n",
      "SCENE thy war house th \n",
      "\n",
      "[1m 33s (700 35%) 1.7581]\n",
      "Wheir will so degesse, the so that teng ous this undy on of redit cast disns deat too lives the prains \n",
      "\n",
      "[1m 45s (800 40%) 1.7530]\n",
      "Whear mossteacue to spirs ussingORK\n",
      "And in my your son orter King sonor callren as buses preace.\n",
      "Exvee \n",
      "\n",
      "[1m 58s (900 45%) 1.9587]\n",
      "Why of here be lord.\n",
      "BISBOT\n",
      "And for thus pexuceamel'd malater warll in of and cast, whath the Frarn.\n",
      "E \n",
      "\n",
      "[2m 11s (1000 50%) 1.7859]\n",
      "Wherele are wered this am furnom prope refircions accuined our revill excest;\n",
      "And thou the may, the pr \n",
      "\n",
      "[2m 24s (1100 55%) 1.4975]\n",
      "Whixt so bewas ual nead;\n",
      "For like trunt a thy and forch\n",
      "Which song the frish thy curgh?\n",
      "Unot for the b \n",
      "\n",
      "[2m 37s (1200 60%) 1.8015]\n",
      "Wherunt, the misksed sording for hainsed our speading\n",
      "And may fliful may boywall.\n",
      "JOAN LA PUCELLE\n",
      "Pree \n",
      "\n",
      "[2m 49s (1300 65%) 1.8117]\n",
      "What seep not that this did if the necet but Talbot of honout the peansons will the for itry filk rece \n",
      "\n",
      "[3m 2s (1400 70%) 1.5021]\n",
      "Whould you, him bing arp;\n",
      "And of the carl of concets\n",
      "That mistrissies in thoue unciont offer as be lik \n",
      "\n",
      "[3m 15s (1500 75%) 1.6856]\n",
      "Whend Godident aung,\n",
      "Thars, for ong by not you coverious , is then as dissenty of the Lontly father fo \n",
      "\n",
      "[3m 28s (1600 80%) 1.4020]\n",
      "Whintented be the to bolt hath and handance.\n",
      "SOMERSET\n",
      "Beto witt unto the proudous signire.\n",
      "Enter He's  \n",
      "\n",
      "[3m 41s (1700 85%) 1.6761]\n",
      "Whom of Burglot your didst like to Glouced Talbot! upon to diger\n",
      "\n",
      "Ye but confully foops:\n",
      "So shalt turn \n",
      "\n",
      "[3m 53s (1800 90%) 1.9708]\n",
      "Where for disceir farther\n",
      "O in cus rustiand the not the re'll percecing upour make.\n",
      "Leshief be seple b \n",
      "\n",
      "[4m 6s (1900 95%) 1.5226]\n",
      "Whtring of the comman\t\n",
      "I the Frent of the counthreeps\n",
      "And so regreat the Eall deare, the place to is p \n",
      "\n",
      "[4m 19s (2000 100%) 1.6352]\n",
      "When my from ke meaks we to lord:\n",
      "That a shat he what what the proach and like four arth we brees.\n",
      "BED \n",
      "\n"
     ]
    }
   ],
   "source": [
    "n_epochs = 2000\n",
    "print_every = 100\n",
    "plot_every = 10\n",
    "hidden_size = 100\n",
    "n_layers = 1\n",
    "lr = 0.005\n",
    "\n",
    "decoder = RNN(n_characters, hidden_size, n_characters, n_layers)\n",
    "decoder_optimizer = torch.optim.Adam(decoder.parameters(), lr=lr)\n",
    "criterion = nn.CrossEntropyLoss()\n",
    "\n",
    "start = time.time()\n",
    "all_losses = []\n",
    "loss_avg = 0\n",
    "\n",
    "for epoch in range(1, n_epochs + 1):\n",
    "    loss = train(*random_training_set())       \n",
    "    loss_avg += loss\n",
    "\n",
    "    if epoch % print_every == 0:\n",
    "        print('[%s (%d %d%%) %.4f]' % (time_since(start), epoch, epoch / n_epochs * 100, loss))\n",
    "        print(evaluate('Wh', 100), '\\n')\n",
    "\n",
    "    if epoch % plot_every == 0:\n",
    "        all_losses.append(loss_avg / plot_every)\n",
    "        loss_avg = 0"
   ]
  },
  {
   "cell_type": "markdown",
   "metadata": {},
   "source": [
    "# Plotting the Training Losses\n",
    "\n",
    "Plotting the historical loss from all_losses shows the network learning:"
   ]
  },
  {
   "cell_type": "code",
   "execution_count": 99,
   "metadata": {},
   "outputs": [
    {
     "data": {
      "text/plain": [
       "[<matplotlib.lines.Line2D at 0x10a5d2d30>]"
      ]
     },
     "execution_count": 99,
     "metadata": {},
     "output_type": "execute_result"
    },
    {
     "data": {
      "image/png": "[encoded data removed]",
      "text/plain": [
       "<Figure size 432x288 with 1 Axes>"
      ]
     },
     "metadata": {},
     "output_type": "display_data"
    }
   ],
   "source": [
    "import matplotlib.pyplot as plt\n",
    "import matplotlib.ticker as ticker\n",
    "%matplotlib inline\n",
    "\n",
    "plt.figure()\n",
    "plt.plot(all_losses)"
   ]
  },
  {
   "cell_type": "markdown",
   "metadata": {},
   "source": [
    "# Evaluating at different \"temperatures\"\n",
    "\n",
    "In the `evaluate` function above, every time a prediction is made the outputs are divided by the \"temperature\" argument passed. Using a higher number makes all actions more equally likely, and thus gives us \"more random\" outputs. Using a lower value (less than 1) makes high probabilities contribute more. As we turn the temperature towards zero we are choosing only the most likely outputs.\n",
    "\n",
    "We can see the effects of this by adjusting the `temperature` argument."
   ]
  },
  {
   "cell_type": "code",
   "execution_count": 11,
   "metadata": {},
   "outputs": [
    {
     "name": "stdout",
     "output_type": "stream",
     "text": [
      "Thoo head strant me reporce\n",
      "O and hears of thou provand of treech.\n",
      "\n",
      "LUCI death in that to tellon is head thing come thou that to not him with your firsure but,\n",
      "They here thyse of yet in thou thy meat to\n"
     ]
    }
   ],
   "source": [
    "print(evaluate('Th', 200, temperature=0.8))"
   ]
  },
  {
   "cell_type": "markdown",
   "metadata": {},
   "source": [
    "Lower temperatures are less varied, choosing only the more probable outputs:"
   ]
  },
  {
   "cell_type": "code",
   "execution_count": 12,
   "metadata": {},
   "outputs": [
    {
     "name": "stdout",
     "output_type": "stream",
     "text": [
      "This commanderence the forself to the the to the the the to the to the the formands\n",
      "What to the strange the boy the the have the the to the to to the formands\n",
      "That the the the the the the sorn the to th\n"
     ]
    }
   ],
   "source": [
    "print(evaluate('Th', 200, temperature=0.2))"
   ]
  },
  {
   "cell_type": "markdown",
   "metadata": {},
   "source": [
    "Higher temperatures more varied, choosing less probable outputs:"
   ]
  },
  {
   "cell_type": "code",
   "execution_count": 13,
   "metadata": {},
   "outputs": [
    {
     "name": "stdout",
     "output_type": "stream",
     "text": [
      "That,\n",
      "henct wto Haste's, norsee'd stave brYiry's is dsem.\n",
      "Hell hurss Heamous halloR:\n",
      "Tht a readerty the!\n",
      "\n",
      "KuWhrate.\n",
      "\n",
      "VLOMAY, mere's no, toojecur' kong.\n",
      "\n",
      "DUKE VIx whJos ivistomzliben\n",
      "The vrieglad bloot, \n"
     ]
    }
   ],
   "source": [
    "print(evaluate('Th', 200, temperature=1.4))"
   ]
  },
  {
   "cell_type": "markdown",
   "metadata": {
    "collapsed": true
   },
   "source": [
    "# Exercises\n",
    "\n",
    "* Train with your own dataset, e.g.\n",
    "    * Text from another author\n",
    "    * Blog posts\n",
    "    * Code\n",
    "* Increase number of layers and network size to get better results"
   ]
  },
  {
   "cell_type": "markdown",
   "metadata": {},
   "source": [
    "**Next**: [Generating Names with a Conditional Character-Level RNN](https://github.com/spro/practical-pytorch/blob/master/conditional-char-rnn/conditional-char-rnn.ipynb)"
   ]
  }
 ],
 "metadata": {
  "anaconda-cloud": {},
  "kernelspec": {
   "display_name": "Python 3",
   "language": "python",
   "name": "python3"
  },
  "language_info": {
   "codemirror_mode": {
    "name": "ipython",
    "version": 3
   },
   "file_extension": ".py",
   "mimetype": "text/x-python",
   "name": "python",
   "nbconvert_exporter": "python",
   "pygments_lexer": "ipython3",
   "version": "3.6.8"
  }
 },
 "nbformat": 4,
 "nbformat_minor": 1
}
