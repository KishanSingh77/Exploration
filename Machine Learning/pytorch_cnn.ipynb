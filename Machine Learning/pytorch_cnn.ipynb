{
 "cells": [
  {
   "cell_type": "code",
   "execution_count": 2,
   "metadata": {},
   "outputs": [],
   "source": [
    "import torch \n",
    "import torch.nn as nn\n",
    "from torch.utils.data import DataLoader\n",
    "import torchvision.transforms as transforms\n",
    "import torchvision.datasets\n",
    "from bokeh.plotting import figure\n",
    "from bokeh.io import show\n",
    "from bokeh.models import LinearAxis, Range1d\n",
    "import numpy as np"
   ]
  },
  {
   "cell_type": "code",
   "execution_count": 27,
   "metadata": {},
   "outputs": [],
   "source": [
    "#hyper parameters\n",
    "num_epochs = 6\n",
    "num_classes = 10\n",
    "batch_size = 100\n",
    "learning_rate = 0.001"
   ]
  },
  {
   "cell_type": "code",
   "execution_count": 5,
   "metadata": {},
   "outputs": [],
   "source": [
    "DATA_PATH = \"./inputs/\"\n",
    "MODEL_STORE_PATH = \"./models\""
   ]
  },
  {
   "cell_type": "code",
   "execution_count": 26,
   "metadata": {},
   "outputs": [],
   "source": [
    "trans = transforms.Compose([transforms.ToTensor(), transforms.Normalize((0.1307,), (0.3081,))])\n",
    "\n",
    "train_dataset = torchvision.datasets.MNIST(root = DATA_PATH, train = True, transform = trans, download = True)\n",
    "test_dataset = torchvision.datasets.MNIST(root=DATA_PATH, train = False, transform = trans)"
   ]
  },
  {
   "cell_type": "code",
   "execution_count": 28,
   "metadata": {},
   "outputs": [],
   "source": [
    "train_loader = DataLoader(dataset = train_dataset, batch_size = batch_size, shuffle = True)\n",
    "test_loader = DataLoader(dataset = test_dataset, batch_size = batch_size, shuffle = False)"
   ]
  },
  {
   "cell_type": "code",
   "execution_count": 29,
   "metadata": {},
   "outputs": [],
   "source": [
    "class ConvNet(nn.Module):\n",
    "    def __init__(self):\n",
    "        super(ConvNet, self).__init__()\n",
    "        self.layer1 = nn.Sequential(\n",
    "            nn.Conv2d(1, 32, kernel_size = 5, stride = 1, padding = 2), \n",
    "            nn.ReLU(), \n",
    "            nn.MaxPool2d(kernel_size = 2, stride = 2)\n",
    "        )\n",
    "        self.layer2 = nn.Sequential(\n",
    "            nn.Conv2d(32, 64, kernel_size = 5, stride = 1, padding = 2), \n",
    "            nn.ReLU(), \n",
    "            nn.MaxPool2d(kernel_size = 2, stride = 2)\n",
    "        )\n",
    "        self.drop_out = nn.Dropout()\n",
    "        self.fc1 = nn.Linear(7 * 7 * 64, 1000)\n",
    "        self.fc2 = nn.Linear(1000, 10)\n",
    "        \n",
    "    def forward(self, x):\n",
    "        out = self.layer1(x)\n",
    "        out = self.layer2(out)\n",
    "        out = out.reshape(out.size(0), -1)\n",
    "        out = self.drop_out(out)\n",
    "        out = self.fc1(out)\n",
    "        out = self.fc2(out)\n",
    "        return out\n",
    "    \n"
   ]
  },
  {
   "cell_type": "code",
   "execution_count": 30,
   "metadata": {},
   "outputs": [],
   "source": [
    "model = ConvNet()\n",
    "criterion = nn.CrossEntropyLoss()\n",
    "optimizer = torch.optim.Adam(model.parameters(), lr = learning_rate)"
   ]
  },
  {
   "cell_type": "code",
   "execution_count": 31,
   "metadata": {},
   "outputs": [
    {
     "name": "stdout",
     "output_type": "stream",
     "text": [
      "Epoch [1 / 6], Step [100 / 600], Loss: 0.1323, Accuracy: 96.00%\n",
      "Epoch [1 / 6], Step [200 / 600], Loss: 0.1497, Accuracy: 96.00%\n",
      "Epoch [1 / 6], Step [300 / 600], Loss: 0.1294, Accuracy: 94.00%\n",
      "Epoch [1 / 6], Step [400 / 600], Loss: 0.1135, Accuracy: 95.00%\n",
      "Epoch [1 / 6], Step [500 / 600], Loss: 0.1313, Accuracy: 97.00%\n",
      "Epoch [1 / 6], Step [600 / 600], Loss: 0.2798, Accuracy: 91.00%\n",
      "Epoch [2 / 6], Step [100 / 600], Loss: 0.0638, Accuracy: 98.00%\n",
      "Epoch [2 / 6], Step [200 / 600], Loss: 0.0801, Accuracy: 96.00%\n",
      "Epoch [2 / 6], Step [300 / 600], Loss: 0.0338, Accuracy: 99.00%\n",
      "Epoch [2 / 6], Step [400 / 600], Loss: 0.0548, Accuracy: 97.00%\n",
      "Epoch [2 / 6], Step [500 / 600], Loss: 0.0615, Accuracy: 99.00%\n",
      "Epoch [2 / 6], Step [600 / 600], Loss: 0.0683, Accuracy: 97.00%\n",
      "Epoch [3 / 6], Step [100 / 600], Loss: 0.0135, Accuracy: 100.00%\n",
      "Epoch [3 / 6], Step [200 / 600], Loss: 0.0121, Accuracy: 99.00%\n",
      "Epoch [3 / 6], Step [300 / 600], Loss: 0.0101, Accuracy: 100.00%\n",
      "Epoch [3 / 6], Step [400 / 600], Loss: 0.0159, Accuracy: 100.00%\n",
      "Epoch [3 / 6], Step [500 / 600], Loss: 0.0531, Accuracy: 97.00%\n",
      "Epoch [3 / 6], Step [600 / 600], Loss: 0.0192, Accuracy: 99.00%\n",
      "Epoch [4 / 6], Step [100 / 600], Loss: 0.0607, Accuracy: 99.00%\n",
      "Epoch [4 / 6], Step [200 / 600], Loss: 0.0893, Accuracy: 98.00%\n",
      "Epoch [4 / 6], Step [300 / 600], Loss: 0.0480, Accuracy: 98.00%\n",
      "Epoch [4 / 6], Step [400 / 600], Loss: 0.0062, Accuracy: 100.00%\n",
      "Epoch [4 / 6], Step [500 / 600], Loss: 0.0358, Accuracy: 98.00%\n",
      "Epoch [4 / 6], Step [600 / 600], Loss: 0.1748, Accuracy: 97.00%\n",
      "Epoch [5 / 6], Step [100 / 600], Loss: 0.0236, Accuracy: 99.00%\n",
      "Epoch [5 / 6], Step [200 / 600], Loss: 0.0106, Accuracy: 100.00%\n",
      "Epoch [5 / 6], Step [300 / 600], Loss: 0.0669, Accuracy: 96.00%\n",
      "Epoch [5 / 6], Step [400 / 600], Loss: 0.0171, Accuracy: 99.00%\n",
      "Epoch [5 / 6], Step [500 / 600], Loss: 0.0520, Accuracy: 99.00%\n",
      "Epoch [5 / 6], Step [600 / 600], Loss: 0.0345, Accuracy: 99.00%\n",
      "Epoch [6 / 6], Step [100 / 600], Loss: 0.0422, Accuracy: 97.00%\n",
      "Epoch [6 / 6], Step [200 / 600], Loss: 0.0107, Accuracy: 100.00%\n",
      "Epoch [6 / 6], Step [300 / 600], Loss: 0.0345, Accuracy: 98.00%\n",
      "Epoch [6 / 6], Step [400 / 600], Loss: 0.0531, Accuracy: 97.00%\n",
      "Epoch [6 / 6], Step [500 / 600], Loss: 0.0450, Accuracy: 98.00%\n",
      "Epoch [6 / 6], Step [600 / 600], Loss: 0.0663, Accuracy: 97.00%\n"
     ]
    }
   ],
   "source": [
    "total_step = len(train_loader)\n",
    "loss_list, acc_list = [], []\n",
    "for epoch in range(num_epochs):\n",
    "    for i, (images, labels) in enumerate(train_loader):\n",
    "        # Forward Pass\n",
    "        outputs = model(images)\n",
    "        loss = criterion(outputs, labels)\n",
    "        loss_list.append(loss.item())\n",
    "        \n",
    "        #backpropagation\n",
    "        optimizer.zero_grad()\n",
    "        loss.backward()\n",
    "        optimizer.step()\n",
    "        \n",
    "        #accuracy tracking\n",
    "        total = labels.size(0)\n",
    "        _, predicted = torch.max(outputs.data, 1)\n",
    "        correct = (predicted == labels).sum().item()\n",
    "        acc_list.append(correct / total)\n",
    "        if (i + 1) % 100 == 0:\n",
    "            print(\"Epoch [{} / {}], Step [{} / {}], Loss: {:.4f}, Accuracy: {:.2f}%\".format(\n",
    "            epoch + 1, num_epochs, i + 1, total_step, loss.item(), (correct / float(total)) * 100\n",
    "            ))\n",
    "            \n",
    "            "
   ]
  },
  {
   "cell_type": "code",
   "execution_count": 33,
   "metadata": {},
   "outputs": [
    {
     "name": "stdout",
     "output_type": "stream",
     "text": [
      "Test Accuracy of the model on the 10000 test images : 99.13 %\n"
     ]
    }
   ],
   "source": [
    "#Testing model\n",
    "model.eval()\n",
    "with torch.no_grad():\n",
    "    correct, total = 0, 0\n",
    "    for images, labels in test_loader:\n",
    "        outputs = model(images)\n",
    "        _, predicted = torch.max(outputs.data, 1)\n",
    "        total += labels.size(0)\n",
    "        correct += (predicted == labels).sum().item()\n",
    "        \n",
    "    print(\"Test Accuracy of the model on the 10000 test images : {} %\".format((correct / float(total) * 100)))\n",
    "    \n",
    "\n",
    "torch.save(model.state_dict(), MODEL_STORE_PATH + \"conv_net_model.ckpt\")\n",
    "\n",
    "\n"
   ]
  },
  {
   "cell_type": "code",
   "execution_count": 37,
   "metadata": {},
   "outputs": [],
   "source": [
    "p = figure(y_axis_label='Loss', width=850, y_range=(0, 1), title='PyTorch ConvNet results')\n",
    "p.extra_y_ranges = {'Accuracy': Range1d(start=0, end=100)}\n",
    "p.add_layout(LinearAxis(y_range_name='Accuracy', axis_label='Accuracy (%)'), 'right')\n",
    "p.line(np.arange(len(loss_list)), loss_list)\n",
    "p.line(np.arange(len(loss_list)), np.array(acc_list) * 100, y_range_name='Accuracy', color='red')\n",
    "show(p)\n"
   ]
  },
  {
   "cell_type": "code",
   "execution_count": null,
   "metadata": {},
   "outputs": [],
   "source": []
  }
 ],
 "metadata": {
  "kernelspec": {
   "display_name": "Python 3",
   "language": "python",
   "name": "python3"
  },
  "language_info": {
   "codemirror_mode": {
    "name": "ipython",
    "version": 2
   },
   "file_extension": ".py",
   "mimetype": "text/x-python",
   "name": "python",
   "nbconvert_exporter": "python",
   "pygments_lexer": "ipython2",
   "version": "2.7.10"
  }
 },
 "nbformat": 4,
 "nbformat_minor": 2
}
